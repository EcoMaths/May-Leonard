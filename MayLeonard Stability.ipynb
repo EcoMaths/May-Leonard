{
 "cells": [
  {
   "cell_type": "code",
   "execution_count": 1,
   "id": "7715b1d1",
   "metadata": {},
   "outputs": [
    {
     "data": {
      "image/png": "[encoded data removed]",
      "text/latex": [
       "$\\displaystyle \\left\\{\\left( \\frac{1}{\\alpha + \\beta + 1}, \\  \\frac{1}{\\alpha + \\beta + 1}, \\  \\frac{1}{\\alpha + \\beta + 1}\\right)\\right\\}$"
      ],
      "text/plain": [
       "⎧⎛    1          1          1    ⎞⎫\n",
       "⎨⎜─────────, ─────────, ─────────⎟⎬\n",
       "⎩⎝α + β + 1  α + β + 1  α + β + 1⎠⎭"
      ]
     },
     "execution_count": 1,
     "metadata": {},
     "output_type": "execute_result"
    }
   ],
   "source": [
    "########## Equilibrium Point Finder ###########  \n",
    "import sympy as sp\n",
    "from sympy import *\n",
    "\n",
    "N1, N2, N3 = sp.symbols(\"N1, N2, N3\")  \n",
    "sp.init_printing()\n",
    "a, b = sp.symbols('alpha beta')\n",
    "\n",
    "\n",
    "eqns = [N1 + a*N2 + b*N3 - 1, b*N1 + N2 + a*N3 -1, a*N1 + b*N2 + N3 - 1]\n",
    "linsolve(eqns, [N1, N2, N3])\n"
   ]
  },
  {
   "cell_type": "code",
   "execution_count": 41,
   "id": "103a2331",
   "metadata": {},
   "outputs": [
    {
     "data": {
      "text/latex": [
       "$\\displaystyle \\left[\\begin{matrix}- 2 N_{1} - N_{2} \\alpha - N_{3} \\beta + 1 & - N_{1} \\alpha & - N_{1} \\beta\\\\- N_{2} \\beta & - N_{1} \\beta - 2 N_{2} - N_{3} \\alpha + 1 & - N_{2} \\alpha\\\\- N_{3} \\alpha & - N_{3} \\beta & - N_{1} \\alpha - N_{2} \\beta - 2 N_{3} + 1\\end{matrix}\\right]$"
      ],
      "text/plain": [
       "⎡-2⋅N₁ - N₂⋅α - N₃⋅β + 1           -N₁⋅α                    -N₁⋅β         ⎤\n",
       "⎢                                                                         ⎥\n",
       "⎢         -N₂⋅β           -N₁⋅β - 2⋅N₂ - N₃⋅α + 1           -N₂⋅α         ⎥\n",
       "⎢                                                                         ⎥\n",
       "⎣         -N₃⋅α                    -N₃⋅β           -N₁⋅α - N₂⋅β - 2⋅N₃ + 1⎦"
      ]
     },
     "execution_count": 41,
     "metadata": {},
     "output_type": "execute_result"
    }
   ],
   "source": [
    "######### Jacobian Matrix Calculator ##########\n",
    "\n",
    "import sympy as sp\n",
    "\n",
    "sp.init_printing()                       #symbolic printing \n",
    "\n",
    "N1, N2, N3 = sp.symbols(\"N1, N2, N3\")                 #define variable as symbols for sympy\n",
    "alpha, beta = sp.symbols(\"alpha, beta\") #define parameters as symbols for sympy\n",
    "\n",
    "# Symbolic expression of the system\n",
    "dN1dt = N1*(1 - N1 - alpha*N2 - beta*N3)\n",
    "dN2dt = N2*(1 - beta*N1 - N2 - alpha*N3)\n",
    "dN3dt = N3*(1 - alpha*N1 - beta*N2 - N3)\n",
    "\n",
    "F = sp.Matrix([dN1dt, dN2dt, dN3dt], dtype = 'float')  #symbolic expression for F(N1, N2, N3)\n",
    "var = sp.Matrix([N1, N2, N3],dtype='float')      #variables in which compute jacobian \n",
    "jac = F.jacobian(var)           #compute jacobian symbolically \n",
    "\n",
    "# You can convert jac to a function:\n",
    "jacobian_fun = sp.lambdify((N1, N2, N3, alpha, beta), jac, dummify=False)\n",
    "\n",
    "jac"
   ]
  },
  {
   "cell_type": "code",
   "execution_count": 51,
   "id": "1df932b7",
   "metadata": {},
   "outputs": [],
   "source": [
    "#2 species equilibria\n",
    "\n",
    "import scipy\n",
    "\n",
    "J0 = jacobian_fun((1-alpha)/(1-alpha*beta),(1-beta)/(1-alpha*beta),0,alpha,beta)\n",
    "M = sp.Matrix(J0)\n",
    "\n",
    "\n",
    "#Obtain eigenvalues of J(0,0,0) symbolically \n",
    "lam = sp.symbols('lambda')\n",
    "cp = sp.det(M - lam * sp.eye(3))\n",
    "eigs = sp.roots(sp.Poly(cp, lam))"
   ]
  },
  {
   "cell_type": "code",
   "execution_count": 52,
   "id": "07ff1b3b",
   "metadata": {},
   "outputs": [
    {
     "data": {
      "text/latex": [
       "$\\displaystyle \\left[\\begin{matrix}- \\frac{\\alpha \\left(1 - \\beta\\right)}{- \\alpha \\beta + 1} - \\frac{2 \\left(1 - \\alpha\\right)}{- \\alpha \\beta + 1} + 1 & - \\frac{\\alpha \\left(1 - \\alpha\\right)}{- \\alpha \\beta + 1} & - \\frac{\\beta \\left(1 - \\alpha\\right)}{- \\alpha \\beta + 1}\\\\- \\frac{\\beta \\left(1 - \\beta\\right)}{- \\alpha \\beta + 1} & - \\frac{\\beta \\left(1 - \\alpha\\right)}{- \\alpha \\beta + 1} - \\frac{2 \\left(1 - \\beta\\right)}{- \\alpha \\beta + 1} + 1 & - \\frac{\\alpha \\left(1 - \\beta\\right)}{- \\alpha \\beta + 1}\\\\0 & 0 & - \\frac{\\alpha \\left(1 - \\alpha\\right)}{- \\alpha \\beta + 1} - \\frac{\\beta \\left(1 - \\beta\\right)}{- \\alpha \\beta + 1} + 1\\end{matrix}\\right]$"
      ],
      "text/plain": [
       "⎡  α⋅(1 - β)   2⋅(1 - α)              -α⋅(1 - α)                   -β⋅(1 - α) \n",
       "⎢- ───────── - ───────── + 1          ───────────                  ───────────\n",
       "⎢   -α⋅β + 1    -α⋅β + 1                -α⋅β + 1                     -α⋅β + 1 \n",
       "⎢                                                                             \n",
       "⎢        -β⋅(1 - β)             β⋅(1 - α)   2⋅(1 - β)              -α⋅(1 - β) \n",
       "⎢        ───────────          - ───────── - ───────── + 1          ───────────\n",
       "⎢          -α⋅β + 1              -α⋅β + 1    -α⋅β + 1                -α⋅β + 1 \n",
       "⎢                                                                             \n",
       "⎢                                                            α⋅(1 - α)   β⋅(1 \n",
       "⎢             0                            0               - ───────── - ─────\n",
       "⎣                                                             -α⋅β + 1    -α⋅β\n",
       "\n",
       "        ⎤\n",
       "        ⎥\n",
       "        ⎥\n",
       "        ⎥\n",
       "        ⎥\n",
       "        ⎥\n",
       "        ⎥\n",
       "        ⎥\n",
       "- β)    ⎥\n",
       "──── + 1⎥\n",
       " + 1    ⎦"
      ]
     },
     "execution_count": 52,
     "metadata": {},
     "output_type": "execute_result"
    }
   ],
   "source": [
    "##Jacobian matrix with alpha and beta plugged in\n",
    "M"
   ]
  },
  {
   "cell_type": "code",
   "execution_count": 53,
   "id": "278948c3",
   "metadata": {},
   "outputs": [
    {
     "data": {
      "image/png": "[encoded data removed]",
      "text/latex": [
       "$\\displaystyle \\frac{- \\alpha^{3} \\beta \\lambda^{2} + \\alpha^{3} \\beta - \\alpha^{3} \\lambda - \\alpha^{3} - \\alpha^{2} \\beta^{2} \\lambda^{3} + \\alpha^{2} \\beta^{2} \\lambda^{2} + \\alpha^{2} \\beta^{2} \\lambda - \\alpha^{2} \\beta^{2} - \\alpha^{2} \\beta \\lambda - \\alpha^{2} \\beta + \\alpha^{2} \\lambda^{2} + 3 \\alpha^{2} \\lambda + 2 \\alpha^{2} - \\alpha \\beta^{3} \\lambda^{2} + \\alpha \\beta^{3} - \\alpha \\beta^{2} \\lambda - \\alpha \\beta^{2} + 2 \\alpha \\beta \\lambda^{3} + 2 \\alpha \\beta - 2 \\alpha \\lambda - 2 \\alpha - \\beta^{3} \\lambda - \\beta^{3} + \\beta^{2} \\lambda^{2} + 3 \\beta^{2} \\lambda + 2 \\beta^{2} - 2 \\beta \\lambda - 2 \\beta - \\lambda^{3} - \\lambda^{2} + \\lambda + 1}{\\alpha^{2} \\beta^{2} - 2 \\alpha \\beta + 1}$"
      ],
      "text/plain": [
       "   3    2    3      3      3    2  2  3    2  2  2    2  2      2  2    2     \n",
       "- α ⋅β⋅λ  + α ⋅β - α ⋅λ - α  - α ⋅β ⋅λ  + α ⋅β ⋅λ  + α ⋅β ⋅λ - α ⋅β  - α ⋅β⋅λ \n",
       "──────────────────────────────────────────────────────────────────────────────\n",
       "                                                                              \n",
       "                                                                              \n",
       "\n",
       "   2      2  2      2        2      3  2      3      2        2          3    \n",
       "- α ⋅β + α ⋅λ  + 3⋅α ⋅λ + 2⋅α  - α⋅β ⋅λ  + α⋅β  - α⋅β ⋅λ - α⋅β  + 2⋅α⋅β⋅λ  + 2\n",
       "──────────────────────────────────────────────────────────────────────────────\n",
       "                                   2  2                                       \n",
       "                                  α ⋅β  - 2⋅α⋅β + 1                           \n",
       "\n",
       "                      3      3    2  2      2        2                  3    2\n",
       "⋅α⋅β - 2⋅α⋅λ - 2⋅α - β ⋅λ - β  + β ⋅λ  + 3⋅β ⋅λ + 2⋅β  - 2⋅β⋅λ - 2⋅β - λ  - λ \n",
       "──────────────────────────────────────────────────────────────────────────────\n",
       "                                                                              \n",
       "                                                                              \n",
       "\n",
       "        \n",
       " + λ + 1\n",
       "────────\n",
       "        \n",
       "        "
      ]
     },
     "execution_count": 53,
     "metadata": {},
     "output_type": "execute_result"
    }
   ],
   "source": [
    "## determinant of M - lambda*I\n",
    "cp"
   ]
  },
  {
   "cell_type": "code",
   "execution_count": 54,
   "id": "1259781d",
   "metadata": {},
   "outputs": [
    {
     "data": {
      "image/png": "[encoded data removed]",
      "text/latex": [
       "$\\displaystyle \\left\\{ -1 : 1, \\  \\frac{\\alpha \\beta - \\alpha - \\beta + 1}{\\alpha \\beta - 1} : 1, \\  \\frac{- \\alpha^{2} + \\alpha \\beta + \\alpha - \\beta^{2} + \\beta - 1}{\\alpha \\beta - 1} : 1\\right\\}$"
      ],
      "text/plain": [
       "⎧                              2              2           ⎫\n",
       "⎪       α⋅β - α - β + 1     - α  + α⋅β + α - β  + β - 1   ⎪\n",
       "⎨-1: 1, ───────────────: 1, ───────────────────────────: 1⎬\n",
       "⎪           α⋅β - 1                   α⋅β - 1             ⎪\n",
       "⎩                                                         ⎭"
      ]
     },
     "execution_count": 54,
     "metadata": {},
     "output_type": "execute_result"
    }
   ],
   "source": [
    "## Eigenvalues(:multiplicity) - suggests it's possible to have all negative eigenvalues and therefore be stable \n",
    "## if alpha >1 and beta < 1 (or vice versa) with alpha > 1/beta\n",
    "eigs"
   ]
  },
  {
   "cell_type": "code",
   "execution_count": 56,
   "id": "a218d274",
   "metadata": {},
   "outputs": [
    {
     "data": {
      "image/png": "[encoded data removed]",
      "text/latex": [
       "$\\displaystyle \\left\\{ -2.625 : 1, \\  -1.0 : 1, \\  -0.5 : 1\\right\\}$"
      ],
      "text/plain": [
       "{-2.625: 1, -1.0: 1, -0.5: 1}"
      ]
     },
     "execution_count": 56,
     "metadata": {},
     "output_type": "execute_result"
    }
   ],
   "source": [
    "####### Example for the 2-species equilibrium with alpha = 2, beta = 0.75 \n",
    "\n",
    "Jtest = jacobian_fun((1-2)/(1-2*0.75),(1-0.75)/(1-2*0.75), 0, 2, 0.75)\n",
    "M = sp.Matrix(Jtest)\n",
    "cp = sp.det(Jtest - lam * sp.eye(3))\n",
    "eigs = sp.roots(sp.Poly(cp, lam))\n",
    "\n",
    "eigs"
   ]
  },
  {
   "cell_type": "code",
   "execution_count": null,
   "id": "f4511d67",
   "metadata": {},
   "outputs": [],
   "source": [
    "####### SHADED REGION FOR EQUILIBRIUM POINTS ########"
   ]
  },
  {
   "cell_type": "code",
   "execution_count": 77,
   "id": "296d3be1",
   "metadata": {},
   "outputs": [
    {
     "data": {
      "image/png": "[encoded data removed]",
      "text/plain": [
       "<Figure size 576x576 with 1 Axes>"
      ]
     },
     "metadata": {
      "needs_background": "light"
     },
     "output_type": "display_data"
    }
   ],
   "source": [
    "\n",
    "import matplotlib.pyplot as plt\n",
    "import numpy as np\n",
    "import matplotlib.patches as mpatches\n",
    "\n",
    "x = np.arange(0.0, 4, 0.01)\n",
    "y1 = 2-x\n",
    "\n",
    "\n",
    "fig, ax = plt.subplots(figsize=(8, 8))\n",
    "\n",
    "ax.fill_between(x, 0, y1, color = 'blue', alpha = 0.5, label = 'Stability region (3-species)')\n",
    "ax.fill_between(x+1, 1, 4, color = 'green', alpha = 0.5, label = 'Stability region (single-species)')\n",
    "\n",
    "ax.set_ylabel(r'$\\beta$', fontsize = 16)\n",
    "ax.set_xlabel(r'$\\alpha$', fontsize = 16)\n",
    "\n",
    "\n",
    "# where some data has already been plotted to ax\n",
    "handles, labels = ax.get_legend_handles_labels()\n",
    "\n",
    "# manually define a new patch \n",
    "patch = mpatches.Patch(color='white', label='Instability region')\n",
    "\n",
    "# handles is a list, so append manual patch\n",
    "handles.append(patch) \n",
    "\n",
    "# plot the legend\n",
    "plt.legend(handles=handles, loc='upper right')\n",
    "\n",
    "\n",
    "plt.xlim([0, 3])\n",
    "plt.ylim([0, 3])\n",
    "\n",
    "\n",
    "\n",
    "plt.savefig('alphabetastabilityrange.pdf', dpi=400)\n",
    "plt.show()"
   ]
  },
  {
   "cell_type": "code",
   "execution_count": null,
   "id": "300ce3a7",
   "metadata": {},
   "outputs": [],
   "source": []
  }
 ],
 "metadata": {
  "kernelspec": {
   "display_name": "Python 3",
   "language": "python",
   "name": "python3"
  },
  "language_info": {
   "codemirror_mode": {
    "name": "ipython",
    "version": 3
   },
   "file_extension": ".py",
   "mimetype": "text/x-python",
   "name": "python",
   "nbconvert_exporter": "python",
   "pygments_lexer": "ipython3",
   "version": "3.8.8"
  }
 },
 "nbformat": 4,
 "nbformat_minor": 5
}
